{
  "nbformat": 4,
  "nbformat_minor": 0,
  "metadata": {
    "colab": {
      "provenance": [],
      "authorship_tag": "ABX9TyON1j09F5exONubyBR+P47f",
      "include_colab_link": true
    },
    "kernelspec": {
      "name": "python3",
      "display_name": "Python 3"
    },
    "language_info": {
      "name": "python"
    }
  },
  "cells": [
    {
      "cell_type": "markdown",
      "metadata": {
        "id": "view-in-github",
        "colab_type": "text"
      },
      "source": [
        "<a href=\"https://colab.research.google.com/github/lyagmaia/full-stack/blob/main/Nv5_colocando_tudo_em_ordem_e_guardando.ipynb\" target=\"_parent\"><img src=\"https://colab.research.google.com/assets/colab-badge.svg\" alt=\"Open In Colab\"/></a>"
      ]
    },
    {
      "cell_type": "markdown",
      "source": [
        "---\n",
        "Objetivo: Implementar um programa para gerar dados com nomes de pessoas e suas respectivas pontuações, gravar em um arquivo, recuperar os dados do arquivo, visualizar os dados das pontuações das pessoas em um histograma e em uma nuvem de palavras.\n",
        "\n",
        "---"
      ],
      "metadata": {
        "id": "E24gnymmsQev"
      }
    },
    {
      "cell_type": "markdown",
      "source": [
        "\n",
        "1 - Instalando pacotes necessários para geração de dados e criação da nuvem de palavras\n",
        "\n"
      ],
      "metadata": {
        "id": "tbrj7aQytJMD"
      }
    },
    {
      "cell_type": "code",
      "source": [
        "!pip install faker"
      ],
      "metadata": {
        "colab": {
          "base_uri": "https://localhost:8080/"
        },
        "id": "_yxKYpITtcy3",
        "outputId": "3cff5fae-3640-45f2-a114-b970c9f6885a"
      },
      "execution_count": 13,
      "outputs": [
        {
          "output_type": "stream",
          "name": "stdout",
          "text": [
            "Looking in indexes: https://pypi.org/simple, https://us-python.pkg.dev/colab-wheels/public/simple/\n",
            "Requirement already satisfied: faker in /usr/local/lib/python3.7/dist-packages (15.3.3)\n",
            "Requirement already satisfied: typing-extensions>=3.10.0.1 in /usr/local/lib/python3.7/dist-packages (from faker) (4.1.1)\n",
            "Requirement already satisfied: python-dateutil>=2.4 in /usr/local/lib/python3.7/dist-packages (from faker) (2.8.2)\n",
            "Requirement already satisfied: six>=1.5 in /usr/local/lib/python3.7/dist-packages (from python-dateutil>=2.4->faker) (1.15.0)\n"
          ]
        }
      ]
    },
    {
      "cell_type": "code",
      "source": [
        "!pip install wordcloud"
      ],
      "metadata": {
        "colab": {
          "base_uri": "https://localhost:8080/"
        },
        "id": "2HXPuxuetdNs",
        "outputId": "4cde0d2b-5f1e-4345-f92d-d17f247684a6"
      },
      "execution_count": 2,
      "outputs": [
        {
          "output_type": "stream",
          "name": "stdout",
          "text": [
            "Looking in indexes: https://pypi.org/simple, https://us-python.pkg.dev/colab-wheels/public/simple/\n",
            "Requirement already satisfied: wordcloud in /usr/local/lib/python3.7/dist-packages (1.8.2.2)\n",
            "Requirement already satisfied: pillow in /usr/local/lib/python3.7/dist-packages (from wordcloud) (7.1.2)\n",
            "Requirement already satisfied: matplotlib in /usr/local/lib/python3.7/dist-packages (from wordcloud) (3.2.2)\n",
            "Requirement already satisfied: numpy>=1.6.1 in /usr/local/lib/python3.7/dist-packages (from wordcloud) (1.21.6)\n",
            "Requirement already satisfied: kiwisolver>=1.0.1 in /usr/local/lib/python3.7/dist-packages (from matplotlib->wordcloud) (1.4.4)\n",
            "Requirement already satisfied: cycler>=0.10 in /usr/local/lib/python3.7/dist-packages (from matplotlib->wordcloud) (0.11.0)\n",
            "Requirement already satisfied: python-dateutil>=2.1 in /usr/local/lib/python3.7/dist-packages (from matplotlib->wordcloud) (2.8.2)\n",
            "Requirement already satisfied: pyparsing!=2.0.4,!=2.1.2,!=2.1.6,>=2.0.1 in /usr/local/lib/python3.7/dist-packages (from matplotlib->wordcloud) (3.0.9)\n",
            "Requirement already satisfied: typing-extensions in /usr/local/lib/python3.7/dist-packages (from kiwisolver>=1.0.1->matplotlib->wordcloud) (4.1.1)\n",
            "Requirement already satisfied: six>=1.5 in /usr/local/lib/python3.7/dist-packages (from python-dateutil>=2.1->matplotlib->wordcloud) (1.15.0)\n"
          ]
        }
      ]
    },
    {
      "cell_type": "code",
      "source": [
        "!pip install num2words"
      ],
      "metadata": {
        "colab": {
          "base_uri": "https://localhost:8080/"
        },
        "id": "My4jyP-wtg1u",
        "outputId": "fd7cbb2d-c84a-46e3-a913-22488f66f747"
      },
      "execution_count": 3,
      "outputs": [
        {
          "output_type": "stream",
          "name": "stdout",
          "text": [
            "Looking in indexes: https://pypi.org/simple, https://us-python.pkg.dev/colab-wheels/public/simple/\n",
            "Collecting num2words\n",
            "  Downloading num2words-0.5.12-py3-none-any.whl (125 kB)\n",
            "\u001b[K     |████████████████████████████████| 125 kB 4.1 MB/s \n",
            "\u001b[?25hCollecting docopt>=0.6.2\n",
            "  Downloading docopt-0.6.2.tar.gz (25 kB)\n",
            "Building wheels for collected packages: docopt\n",
            "  Building wheel for docopt (setup.py) ... \u001b[?25l\u001b[?25hdone\n",
            "  Created wheel for docopt: filename=docopt-0.6.2-py2.py3-none-any.whl size=13723 sha256=7ad36d9565329d547fd3cc515adb17066a5c89fa8cf251e5a7b76a04b1ae9713\n",
            "  Stored in directory: /root/.cache/pip/wheels/72/b0/3f/1d95f96ff986c7dfffe46ce2be4062f38ebd04b506c77c81b9\n",
            "Successfully built docopt\n",
            "Installing collected packages: docopt, num2words\n",
            "Successfully installed docopt-0.6.2 num2words-0.5.12\n"
          ]
        }
      ]
    },
    {
      "cell_type": "markdown",
      "source": [
        "\n",
        "2 - Gerando os dados para o teste\n"
      ],
      "metadata": {
        "id": "ph2kFxROtnr6"
      }
    },
    {
      "cell_type": "code",
      "source": [
        "import csv\n",
        "import pandas as pd\n",
        "from faker import Faker\n",
        "fake = Faker('pt_BR')\n",
        "\n",
        "nome = []\n",
        "nota = []\n",
        "\n",
        "for i in range(0, 20):\n",
        "  nome.append(fake.name())\n",
        "  nota.append(fake.random_int(1,10))\n",
        "\n",
        "dados = pd.DataFrame()\n",
        "dados[\"nomes\"] = nome\n",
        "dados[\"notas\"] = nota"
      ],
      "metadata": {
        "id": "OQPqFVDptte_"
      },
      "execution_count": 4,
      "outputs": []
    },
    {
      "cell_type": "markdown",
      "source": [
        "3 - Gravando os dados em um arquivo CSV"
      ],
      "metadata": {
        "id": "Fup1NZ1utyOO"
      }
    },
    {
      "cell_type": "code",
      "source": [
        "with open('dados.csv', 'w') as arquivo:\n",
        "  arquivo.write(str(dados))"
      ],
      "metadata": {
        "id": "_2sgf2-6t30u"
      },
      "execution_count": 5,
      "outputs": []
    },
    {
      "cell_type": "markdown",
      "source": [
        "4 - Abrindo um arquivo e carregando os dados"
      ],
      "metadata": {
        "id": "Y8M6dL_Wt7Hf"
      }
    },
    {
      "cell_type": "code",
      "source": [
        "with open(\"dados.csv\", \"r\") as arquivo:\n",
        "  base_dados = arquivo.read()"
      ],
      "metadata": {
        "id": "IkTPKqD7t_1X"
      },
      "execution_count": 6,
      "outputs": []
    },
    {
      "cell_type": "code",
      "source": [
        "print(base_dados)"
      ],
      "metadata": {
        "colab": {
          "base_uri": "https://localhost:8080/"
        },
        "id": "CT6sDUSFuCcd",
        "outputId": "ebb60ab6-ad8f-4e41-bd42-04ac96733ffb"
      },
      "execution_count": 7,
      "outputs": [
        {
          "output_type": "stream",
          "name": "stdout",
          "text": [
            "                       nomes  notas\n",
            "0         Vitor Hugo Martins      4\n",
            "1          Maria Luiza Cunha      3\n",
            "2      João Guilherme Duarte      1\n",
            "3             Samuel Costela      9\n",
            "4       Maria Vitória Fogaça      6\n",
            "5             Isabella Rocha      8\n",
            "6      Srta. Mariane Ribeiro      6\n",
            "7                Erick Ramos     10\n",
            "8               André Castro     10\n",
            "9            Gabriela Vieira      4\n",
            "10             Daniela Ramos      8\n",
            "11              Laís Peixoto      5\n",
            "12             Alice da Cruz      7\n",
            "13             Lucca da Cruz      6\n",
            "14  Sr. João Gabriel Almeida      6\n",
            "15     Pedro Henrique Novaes      2\n",
            "16            Eloah Teixeira      9\n",
            "17                Yuri Pinto      1\n",
            "18          Ana Julia Farias      8\n",
            "19              Vitor Barros      5\n"
          ]
        }
      ]
    },
    {
      "cell_type": "code",
      "source": [
        "lst_notas = dados.notas"
      ],
      "metadata": {
        "id": "4clHnh7vuwOi"
      },
      "execution_count": 8,
      "outputs": []
    },
    {
      "cell_type": "markdown",
      "source": [
        "5 - Criando Histograma"
      ],
      "metadata": {
        "id": "PAonCKPDuzs6"
      }
    },
    {
      "cell_type": "code",
      "source": [
        "import matplotlib.pyplot as plt\n",
        "\n",
        "num_bins=10; plt.hist(lst_notas, num_bins, density=True, facecolor='green',alpha=0.75)\n",
        "\n",
        "plt.xlabel(\"Notas\")\n",
        "plt.ylabel(\"Probabilidade\")\n",
        "plt.title(\"Histograma de Notas\")\n",
        "plt.grid(True)\n",
        "plt.show()"
      ],
      "metadata": {
        "colab": {
          "base_uri": "https://localhost:8080/",
          "height": 295
        },
        "id": "g1GviX1Xu5Q0",
        "outputId": "73f127f0-c7db-4b8a-fad5-e3986397e958"
      },
      "execution_count": 9,
      "outputs": [
        {
          "output_type": "display_data",
          "data": {
            "text/plain": [
              "<Figure size 432x288 with 1 Axes>"
            ],
            "image/png": "[encoded data removed]"
          },
          "metadata": {
            "needs_background": "light"
          }
        }
      ]
    },
    {
      "cell_type": "markdown",
      "source": [
        "6 - Criando a Nuvem de Palavras"
      ],
      "metadata": {
        "id": "90U7mt8tu-9p"
      }
    },
    {
      "cell_type": "code",
      "source": [
        "from wordcloud import WordCloud\n",
        "from num2words import num2words"
      ],
      "metadata": {
        "id": "ucfWCDoOvDmV"
      },
      "execution_count": 10,
      "outputs": []
    },
    {
      "cell_type": "markdown",
      "source": [
        "7 - Preparando os dados para a nuvem de palavras"
      ],
      "metadata": {
        "id": "vC988y73vHN0"
      }
    },
    {
      "cell_type": "code",
      "source": [
        "num_ext = []\n",
        "#range = lst_notas[0:]\n",
        "#posicao = 12\n",
        "\n",
        "for posicao in range(0,19):\n",
        "    num = num2words(lst_notas[posicao], lang='pt-br')\n",
        "    num_ext.append(str(num))\n",
        "print(num_ext)\n",
        "texto = \",\".join(num_ext)"
      ],
      "metadata": {
        "colab": {
          "base_uri": "https://localhost:8080/"
        },
        "id": "micBrNz0v8ya",
        "outputId": "c3ee0c70-4d6f-4b9a-94f9-a06516f1d8d7"
      },
      "execution_count": 11,
      "outputs": [
        {
          "output_type": "stream",
          "name": "stdout",
          "text": [
            "['quatro', 'três', 'um', 'nove', 'seis', 'oito', 'seis', 'dez', 'dez', 'quatro', 'oito', 'cinco', 'sete', 'seis', 'seis', 'dois', 'nove', 'um', 'oito']\n"
          ]
        }
      ]
    },
    {
      "cell_type": "markdown",
      "source": [
        "8 - Exibindo a nuvem de palavras"
      ],
      "metadata": {
        "id": "GJ8spTcwv_7O"
      }
    },
    {
      "cell_type": "code",
      "source": [
        "nuvem_palavras = WordCloud(background_color='grey',\n",
        "                           width=800,height=400).generate(texto)\n",
        "plt.imshow(nuvem_palavras, interpolation='bilinear')\n",
        "plt.axis(\"off\")\n",
        "nuvem_palavras.to_file(\"Nuvem de palavras.png\")"
      ],
      "metadata": {
        "colab": {
          "base_uri": "https://localhost:8080/",
          "height": 215
        },
        "id": "1KA6UUJbwC6r",
        "outputId": "d3e22c45-a722-4ef8-f74f-cf6850563430"
      },
      "execution_count": 12,
      "outputs": [
        {
          "output_type": "execute_result",
          "data": {
            "text/plain": [
              "<wordcloud.wordcloud.WordCloud at 0x7f7ee7f65c10>"
            ]
          },
          "metadata": {},
          "execution_count": 12
        },
        {
          "output_type": "display_data",
          "data": {
            "text/plain": [
              "<Figure size 432x288 with 1 Axes>"
            ],
            "image/png": "[encoded data removed]"
          },
          "metadata": {
            "needs_background": "light"
          }
        }
      ]
    },
    {
      "cell_type": "markdown",
      "source": [
        "---\n",
        "**Análise e Conclusão:**\n",
        "---\n",
        "\n",
        "**Qual a importância de manipular arquivos de texto?**\n",
        "\n",
        "No Python, assim como em outras liguagens de programação, saber manupular arquivos de texto é de grande importância para qualquer desenvolvedor, seja para criar backups, carregar uma lista de alguma planilha, etc. Por isso, a maioria das linguagens de programação possuem meios para essa manipulação.\n",
        "Desenvolver análises a parti de de dados existentes em arquivos é uma das principais atividades praticadas por usuários de Python atualmente.\n",
        "\n",
        "\n",
        "**Qual a importância de visualizar os dados em um histograma?**\n",
        "\n",
        "\n",
        "Um histograma serve para mostrar a distribuição dos valores de um grupo de dados, dispondo as informações de modo a facilitar a interpretação da distribuição dos dados.\n",
        "\n",
        "\n",
        "**O que significa a visualização por nuvem de palavras?**\n",
        "\n",
        "Com a nuvem de palavras temos uma apresentação e visualização de dados de texto de forma super resumida através de nuvem de palavras. Com essa nuvem podemos  perceber de forma rápida quais os termos mais comuns em um conjunto de dados.\n"
      ],
      "metadata": {
        "id": "m7Bo3hEwwIak"
      }
    }
  ]
}