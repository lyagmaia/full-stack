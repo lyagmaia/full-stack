{
  "nbformat": 4,
  "nbformat_minor": 0,
  "metadata": {
    "colab": {
      "provenance": [],
      "authorship_tag": "ABX9TyNLrlZZY2nNTQpM0rFr8840",
      "include_colab_link": true
    },
    "kernelspec": {
      "name": "python3",
      "display_name": "Python 3"
    },
    "language_info": {
      "name": "python"
    }
  },
  "cells": [
    {
      "cell_type": "markdown",
      "metadata": {
        "id": "view-in-github",
        "colab_type": "text"
      },
      "source": [
        "<a href=\"https://colab.research.google.com/github/lyagmaia/full-stack/blob/main/nv3_estruturando_dados.ipynb\" target=\"_parent\"><img src=\"https://colab.research.google.com/assets/colab-badge.svg\" alt=\"Open In Colab\"/></a>"
      ]
    },
    {
      "cell_type": "code",
      "execution_count": 1,
      "metadata": {
        "colab": {
          "base_uri": "https://localhost:8080/"
        },
        "id": "2CuAANRFDL8H",
        "outputId": "65dfdefe-2b66-4909-de3c-4fa6d6cf5ca5"
      },
      "outputs": [
        {
          "name": "stdout",
          "output_type": "stream",
          "text": [
            "Digite o primeiro número 55\n",
            "Digite o segundo número 44\n",
            "Digite o terceiro número 22\n"
          ]
        }
      ],
      "source": [
        "###Entrada de três números pelo usuário\n",
        "n1 = input(\"Digite o primeiro número \")\n",
        "n2 = input(\"Digite o segundo número \")\n",
        "n3 = input(\"Digite o terceiro número \")"
      ]
    },
    {
      "cell_type": "code",
      "source": [
        "print(\"Você digitou os números: \"+n1,n2,n3)"
      ],
      "metadata": {
        "colab": {
          "base_uri": "https://localhost:8080/"
        },
        "id": "5w5Gukj3DmuZ",
        "outputId": "2ff80152-0354-4038-881c-c3d8447e9966"
      },
      "execution_count": 2,
      "outputs": [
        {
          "output_type": "stream",
          "name": "stdout",
          "text": [
            "Você digitou os números: 55 44 22\n"
          ]
        }
      ]
    },
    {
      "cell_type": "code",
      "source": [
        "print([],[n1],[n2],[n3],[n1,n2],[n1,n3],[n2,n3],[n1,n2,n3])"
      ],
      "metadata": {
        "colab": {
          "base_uri": "https://localhost:8080/"
        },
        "id": "TTJE8p9DDql5",
        "outputId": "74386907-8094-47f6-e9d6-b37393c0fb1f"
      },
      "execution_count": 3,
      "outputs": [
        {
          "output_type": "stream",
          "name": "stdout",
          "text": [
            "[] ['55'] ['44'] ['22'] ['55', '44'] ['55', '22'] ['44', '22'] ['55', '44', '22']\n"
          ]
        }
      ]
    }
  ]
}