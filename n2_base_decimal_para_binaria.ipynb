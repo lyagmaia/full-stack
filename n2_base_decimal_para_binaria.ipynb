{
  "nbformat": 4,
  "nbformat_minor": 0,
  "metadata": {
    "colab": {
      "provenance": [],
      "authorship_tag": "ABX9TyOlsRIvgUimCJq840KOxG9U",
      "include_colab_link": true
    },
    "kernelspec": {
      "name": "python3",
      "display_name": "Python 3"
    },
    "language_info": {
      "name": "python"
    }
  },
  "cells": [
    {
      "cell_type": "markdown",
      "metadata": {
        "id": "view-in-github",
        "colab_type": "text"
      },
      "source": [
        "<a href=\"https://colab.research.google.com/github/lyagmaia/full-stack/blob/main/n2_base_decimal_para_binaria.ipynb\" target=\"_parent\"><img src=\"https://colab.research.google.com/assets/colab-badge.svg\" alt=\"Open In Colab\"/></a>"
      ]
    },
    {
      "cell_type": "code",
      "execution_count": null,
      "metadata": {
        "colab": {
          "base_uri": "https://localhost:8080/"
        },
        "id": "g6ZT0S__PLxU",
        "outputId": "4a4be63a-af0f-4fde-da77-3908b833d555"
      },
      "outputs": [
        {
          "output_type": "stream",
          "name": "stdout",
          "text": [
            "Número na base decimal:23\n",
            "Número na base binaria:10111\n"
          ]
        }
      ],
      "source": [
        "numero_base_decimal = 23\n",
        "numero_base_binaria = \"{0:b}\".format(numero_base_decimal)\n",
        "print(f'Número na base decimal:{numero_base_decimal}')\n",
        "print(f'Número na base binaria:{numero_base_binaria}')\n",
        "\n",
        "\n"
      ]
    },
    {
      "cell_type": "code",
      "source": [
        "numero_base_decimal = 151\n",
        "numero_base_binaria = \"{0:b}\".format(numero_base_decimal)\n",
        "print(f'Número na base decimal:{numero_base_decimal}')\n",
        "print(f'Número na base binaria:{numero_base_binaria}')\n",
        "\n"
      ],
      "metadata": {
        "colab": {
          "base_uri": "https://localhost:8080/"
        },
        "id": "AZ1plcTQ7Uw-",
        "outputId": "e961c8b1-d875-4fca-93ce-2ad8c5f62b22"
      },
      "execution_count": null,
      "outputs": [
        {
          "output_type": "stream",
          "name": "stdout",
          "text": [
            "Número na base decimal:151\n",
            "Número na base binaria:10010111\n"
          ]
        }
      ]
    },
    {
      "cell_type": "markdown",
      "source": [],
      "metadata": {
        "id": "_reIu0O59-8f"
      }
    },
    {
      "cell_type": "code",
      "source": [
        "numero_base_decimal = 1434\n",
        "numero_base_binaria = \"{0:b}\".format(numero_base_decimal)\n",
        "print(f'Número na base decimal:{numero_base_decimal}')\n",
        "print(f'Número na base binaria:{numero_base_binaria}')\n",
        "\n"
      ],
      "metadata": {
        "colab": {
          "base_uri": "https://localhost:8080/"
        },
        "id": "KCmJJfIv7Kfj",
        "outputId": "92b434b0-b79b-4f1a-d45d-fc0cbd7f198b"
      },
      "execution_count": null,
      "outputs": [
        {
          "output_type": "stream",
          "name": "stdout",
          "text": [
            "Número na base decimal:1434\n",
            "Número na base binaria:10110011010\n"
          ]
        }
      ]
    },
    {
      "cell_type": "code",
      "source": [
        "dividendo = int(input(\"Digite o número decimal \"))\n",
        "numero_digitado = dividendo\n",
        "quociente = 1\n",
        "lista = []\n",
        "\n",
        "while quociente >= 1:\n",
        "  resto = dividendo%2\n",
        "  lista.insert(0,resto)\n",
        "  quociente = dividendo // 2\n",
        "  dividendo = quociente\n",
        "\n",
        "binario = ''.join([str(item) for item in lista])\n",
        "print(\"Número na base decimal: \",numero_digitado)\n",
        "print(\"Número na base binaria: \",binario)"
      ],
      "metadata": {
        "colab": {
          "base_uri": "https://localhost:8080/"
        },
        "id": "SdkJ69yX8JFL",
        "outputId": "3992c527-849c-4f1e-a7c3-2cead7ffa30c"
      },
      "execution_count": null,
      "outputs": [
        {
          "output_type": "stream",
          "name": "stdout",
          "text": [
            "Digite o número decimal 40\n",
            "Número na base decimal:  40\n",
            "Número na base binaria:  101000\n"
          ]
        }
      ]
    },
    {
      "cell_type": "markdown",
      "source": [
        "Após o teste com vários números os resultados são os mesmos. A solução nativa do Python é mais vantajosa, pois economiza muitas linhas de código."
      ],
      "metadata": {
        "id": "2pHSC9iV8UDG"
      }
    }
  ]
}